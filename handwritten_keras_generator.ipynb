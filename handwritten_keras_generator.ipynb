{
 "cells": [
  {
   "cell_type": "code",
   "execution_count": 1,
   "metadata": {},
   "outputs": [
    {
     "name": "stderr",
     "output_type": "stream",
     "text": [
      "Using TensorFlow backend.\n"
     ]
    }
   ],
   "source": [
    "import warnings\n",
    "warnings.simplefilter(action='ignore', category=FutureWarning)\n",
    "import os, re, glob,sys\n",
    "import cv2\n",
    "import numpy as np\n",
    "from sklearn.model_selection import train_test_split\n",
    "import tensorflow as tf\n",
    "import keras\n",
    "import matplotlib.pyplot as plt\n",
    "from keras.models import Sequential\n",
    "from keras.layers import Dense, Dropout, Flatten\n",
    "from keras.layers.convolutional import Conv2D, MaxPooling2D\n",
    "from keras.callbacks import EarlyStopping\n",
    "from keras.models import load_model\n",
    "import numpy as np\n",
    "\n",
    "np.random.seed(777)\n"
   ]
  },
  {
   "cell_type": "code",
   "execution_count": 2,
   "metadata": {},
   "outputs": [
    {
     "name": "stdout",
     "output_type": "stream",
     "text": [
      "Python version :  3.7.1 (default, Dec 10 2018, 22:54:23) [MSC v.1915 64 bit (AMD64)]\n",
      "TensorFlow version :  1.13.1\n",
      "Keras version :  2.2.4\n",
      "OpenCV version :  4.1.2\n"
     ]
    }
   ],
   "source": [
    "print('Python version : ', sys.version)\n",
    "print('TensorFlow version : ', tf.__version__)\n",
    "print('Keras version : ', keras.__version__)\n",
    "print('OpenCV version : ', cv2.__version__)"
   ]
  },
  {
   "cell_type": "code",
   "execution_count": 3,
   "metadata": {},
   "outputs": [],
   "source": [
    "dir_path = './extracted_images_v2/'\n",
    "categories =os.listdir(dir_path+\"train\")\n",
    "num_classes = len(categories)"
   ]
  },
  {
   "cell_type": "code",
   "execution_count": 4,
   "metadata": {},
   "outputs": [],
   "source": [
    "train_dir = os.path.join(dir_path, 'train')\n",
    "validation_dir = os.path.join(dir_path, 'validation')\n",
    "test_dir = os.path.join(dir_path, 'test')"
   ]
  },
  {
   "cell_type": "code",
   "execution_count": 5,
   "metadata": {},
   "outputs": [],
   "source": [
    "image_w = 45\n",
    "image_h = 45\n",
    "X_train = []\n",
    "Y_train = []\n"
   ]
  },
  {
   "cell_type": "code",
   "execution_count": 9,
   "metadata": {},
   "outputs": [
    {
     "name": "stdout",
     "output_type": "stream",
     "text": [
      "Found 95481 images belonging to 46 classes.\n",
      "Found 31842 images belonging to 46 classes.\n",
      "Found 31842 images belonging to 46 classes.\n"
     ]
    }
   ],
   "source": [
    "from keras.preprocessing.image import ImageDataGenerator\n",
    "\n",
    "test_datagen=ImageDataGenerator(rescale=1./255)\n",
    "\n",
    "train_datagen = ImageDataGenerator(\n",
    "    rescale=1./255, \n",
    "    rotation_range=10, #회전각 10도\n",
    "    width_shift_range=0.1, #상하로 10% 이동\n",
    "    height_shift_range=0.1, #좌우로 10% 이동\n",
    "    shear_range=0.1, #0.1 라디안 내외 시계반대방향 변형\n",
    "    zoom_range=0.2) #축소,확대\n",
    "\n",
    "\n",
    "train_generator=train_datagen.flow_from_directory(\n",
    "    train_dir,\n",
    "    target_size=(45,45),\n",
    "    batch_size=100,\n",
    "    class_mode='categorical')\n",
    "#    color_mode = 'grayscale')\n",
    "\n",
    "validation_generator=test_datagen.flow_from_directory(\n",
    "    validation_dir,\n",
    "    target_size=(45,45),\n",
    "    batch_size=100,\n",
    "    class_mode='categorical')\n",
    "#    color_mode = 'grayscale')\n",
    "\n",
    "test_generator=test_datagen.flow_from_directory(\n",
    "    validation_dir,\n",
    "    target_size=(45,45),\n",
    "    batch_size=100,\n",
    "    class_mode='categorical')\n",
    "#    color_mode = 'grayscale')"
   ]
  },
  {
   "cell_type": "code",
   "execution_count": 10,
   "metadata": {},
   "outputs": [],
   "source": [
    "from keras.models import Sequential\n",
    "from keras.layers import Dropout, Activation, Dense\n",
    "from keras.layers import Flatten, Convolution2D, MaxPooling2D\n",
    "from keras.models import load_model\n",
    "import cv2"
   ]
  },
  {
   "cell_type": "code",
   "execution_count": 11,
   "metadata": {},
   "outputs": [],
   "source": [
    "from keras import models,layers"
   ]
  },
  {
   "cell_type": "code",
   "execution_count": 12,
   "metadata": {},
   "outputs": [
    {
     "name": "stdout",
     "output_type": "stream",
     "text": [
      "WARNING:tensorflow:From C:\\Anaconda3\\lib\\site-packages\\tensorflow\\python\\framework\\op_def_library.py:263: colocate_with (from tensorflow.python.framework.ops) is deprecated and will be removed in a future version.\n",
      "Instructions for updating:\n",
      "Colocations handled automatically by placer.\n"
     ]
    },
    {
     "data": {
      "text/plain": [
       "\"\\nmodel.add(layers.Conv2D(32,(3,3),activation='relu',input_shape=(45,45,3)))\\nmodel.add(layers.Flatten())\\nmodel.add(layers.Dense(2025, activation='relu'))\\nmodel.add(layers.Dropout(0.2),)\\nmodel.add(layers.Dense(46, activation='softmax'))\\nmodel.summary()\\n\""
      ]
     },
     "execution_count": 12,
     "metadata": {},
     "output_type": "execute_result"
    }
   ],
   "source": [
    "model=models.Sequential()\n",
    "\n",
    "model.add(layers.Conv2D(32,(3,3),activation='relu',input_shape=(45,45,3)))\n",
    "model.add(layers.MaxPooling2D((2,2)))\n",
    "model.add(layers.Conv2D(64,(3,3),activation='relu'))\n",
    "model.add(layers.MaxPooling2D((2,2)))\n",
    "model.add(layers.Conv2D(128,(3,3),activation='relu'))\n",
    "model.add(layers.MaxPooling2D((2,2)))\n",
    "model.add(layers.Conv2D(128,(3,3),activation='relu'))\n",
    "#model.add(layers.MaxPooling2D((2,2)))\n",
    "model.add(layers.Flatten())\n",
    "model.add(layers.Dense(512,activation='relu'))\n",
    "model.add(layers.Dense(46,activation='softmax')"
   ]
  },
  {
   "cell_type": "code",
   "execution_count": 13,
   "metadata": {},
   "outputs": [],
   "source": [
    "from keras import optimizers"
   ]
  },
  {
   "cell_type": "code",
   "execution_count": 14,
   "metadata": {},
   "outputs": [],
   "source": [
    "model.compile(loss='categorical_crossentropy',\n",
    "              optimizer=optimizers.RMSprop(lr=1e-4),metrics=['acc'])"
   ]
  },
  {
   "cell_type": "code",
   "execution_count": 16,
   "metadata": {},
   "outputs": [],
   "source": [
    "early_stopping = EarlyStopping(monitor='val_loss', patience=10, verbose=1)"
   ]
  },
  {
   "cell_type": "code",
   "execution_count": 17,
   "metadata": {},
   "outputs": [
    {
     "name": "stdout",
     "output_type": "stream",
     "text": [
      "WARNING:tensorflow:From C:\\Anaconda3\\lib\\site-packages\\tensorflow\\python\\ops\\math_ops.py:3066: to_int32 (from tensorflow.python.ops.math_ops) is deprecated and will be removed in a future version.\n",
      "Instructions for updating:\n",
      "Use tf.cast instead.\n",
      "Epoch 1/100\n",
      "10/10 [==============================] - 9s 946ms/step - loss: 3.6651 - acc: 0.1610 - val_loss: 3.3897 - val_acc: 0.1760\n",
      "Epoch 2/100\n",
      "10/10 [==============================] - 8s 813ms/step - loss: 3.1559 - acc: 0.2240 - val_loss: 3.0047 - val_acc: 0.2130\n",
      "Epoch 3/100\n",
      "10/10 [==============================] - 9s 899ms/step - loss: 2.9805 - acc: 0.2320 - val_loss: 2.8770 - val_acc: 0.2200\n",
      "Epoch 4/100\n",
      "10/10 [==============================] - 9s 893ms/step - loss: 2.8530 - acc: 0.2330 - val_loss: 2.8665 - val_acc: 0.1480\n",
      "Epoch 5/100\n",
      "10/10 [==============================] - 9s 949ms/step - loss: 2.8715 - acc: 0.2210 - val_loss: 2.8411 - val_acc: 0.2020\n",
      "Epoch 6/100\n",
      "10/10 [==============================] - 9s 934ms/step - loss: 2.8361 - acc: 0.2260 - val_loss: 2.8651 - val_acc: 0.2210\n",
      "Epoch 7/100\n",
      "10/10 [==============================] - 8s 800ms/step - loss: 2.8014 - acc: 0.2380 - val_loss: 2.8136 - val_acc: 0.1690\n",
      "Epoch 8/100\n",
      "10/10 [==============================] - 8s 796ms/step - loss: 2.7995 - acc: 0.2200 - val_loss: 2.7819 - val_acc: 0.2180\n",
      "Epoch 9/100\n",
      "10/10 [==============================] - 8s 771ms/step - loss: 2.7973 - acc: 0.2320 - val_loss: 2.7169 - val_acc: 0.3140\n",
      "Epoch 10/100\n",
      "10/10 [==============================] - 10s 993ms/step - loss: 2.8406 - acc: 0.2430 - val_loss: 2.7842 - val_acc: 0.2520\n",
      "Epoch 11/100\n",
      "10/10 [==============================] - 10s 961ms/step - loss: 2.7177 - acc: 0.2880 - val_loss: 2.7386 - val_acc: 0.3430\n",
      "Epoch 12/100\n",
      "10/10 [==============================] - 11s 1s/step - loss: 2.7981 - acc: 0.2440 - val_loss: 2.6926 - val_acc: 0.3250\n",
      "Epoch 13/100\n",
      "10/10 [==============================] - 12s 1s/step - loss: 2.7099 - acc: 0.2750 - val_loss: 2.6450 - val_acc: 0.3540\n",
      "Epoch 14/100\n",
      "10/10 [==============================] - 12s 1s/step - loss: 2.7129 - acc: 0.2970 - val_loss: 2.4936 - val_acc: 0.3730\n",
      "Epoch 15/100\n",
      "10/10 [==============================] - 11s 1s/step - loss: 2.6393 - acc: 0.2940 - val_loss: 2.5801 - val_acc: 0.3490\n",
      "Epoch 16/100\n",
      "10/10 [==============================] - 10s 993ms/step - loss: 2.5483 - acc: 0.3240 - val_loss: 2.5360 - val_acc: 0.3280\n",
      "Epoch 17/100\n",
      "10/10 [==============================] - 10s 959ms/step - loss: 2.5058 - acc: 0.3410 - val_loss: 2.4875 - val_acc: 0.3460\n",
      "Epoch 18/100\n",
      "10/10 [==============================] - 9s 931ms/step - loss: 2.5019 - acc: 0.3300 - val_loss: 2.2827 - val_acc: 0.4020\n",
      "Epoch 19/100\n",
      "10/10 [==============================] - 9s 939ms/step - loss: 2.4083 - acc: 0.3920 - val_loss: 2.2708 - val_acc: 0.4570\n",
      "Epoch 20/100\n",
      "10/10 [==============================] - 11s 1s/step - loss: 2.3336 - acc: 0.4510 - val_loss: 2.1710 - val_acc: 0.4940\n",
      "Epoch 21/100\n",
      "10/10 [==============================] - 9s 880ms/step - loss: 2.2751 - acc: 0.4640 - val_loss: 2.0640 - val_acc: 0.5000\n",
      "Epoch 22/100\n",
      "10/10 [==============================] - 9s 929ms/step - loss: 2.1633 - acc: 0.5130 - val_loss: 1.9685 - val_acc: 0.4900\n",
      "Epoch 23/100\n",
      "10/10 [==============================] - 10s 1s/step - loss: 2.0148 - acc: 0.5300 - val_loss: 1.9068 - val_acc: 0.5600\n",
      "Epoch 24/100\n",
      "10/10 [==============================] - 10s 1s/step - loss: 2.0235 - acc: 0.5620 - val_loss: 1.7561 - val_acc: 0.6250\n",
      "Epoch 25/100\n",
      "10/10 [==============================] - 11s 1s/step - loss: 1.9360 - acc: 0.5740 - val_loss: 1.8481 - val_acc: 0.5920\n",
      "Epoch 26/100\n",
      "10/10 [==============================] - 11s 1s/step - loss: 1.9058 - acc: 0.5650 - val_loss: 1.7905 - val_acc: 0.6090\n",
      "Epoch 27/100\n",
      "10/10 [==============================] - 12s 1s/step - loss: 1.8916 - acc: 0.5490 - val_loss: 1.5961 - val_acc: 0.6380\n",
      "Epoch 28/100\n",
      "10/10 [==============================] - 9s 923ms/step - loss: 1.7866 - acc: 0.5770 - val_loss: 1.7446 - val_acc: 0.6210\n",
      "Epoch 29/100\n",
      "10/10 [==============================] - 9s 927ms/step - loss: 1.7323 - acc: 0.5840 - val_loss: 1.5059 - val_acc: 0.6820\n",
      "Epoch 30/100\n",
      "10/10 [==============================] - 9s 874ms/step - loss: 1.7677 - acc: 0.5850 - val_loss: 1.5661 - val_acc: 0.6560\n",
      "Epoch 31/100\n",
      "10/10 [==============================] - 9s 863ms/step - loss: 1.7728 - acc: 0.5660 - val_loss: 1.6868 - val_acc: 0.6110\n",
      "Epoch 32/100\n",
      "10/10 [==============================] - 9s 858ms/step - loss: 1.6288 - acc: 0.5950 - val_loss: 1.4852 - val_acc: 0.6783\n",
      "Epoch 33/100\n",
      "10/10 [==============================] - 8s 842ms/step - loss: 1.5888 - acc: 0.6080 - val_loss: 1.5656 - val_acc: 0.6660\n",
      "Epoch 34/100\n",
      "10/10 [==============================] - 9s 882ms/step - loss: 1.6164 - acc: 0.6190 - val_loss: 1.4360 - val_acc: 0.6770\n",
      "Epoch 35/100\n",
      "10/10 [==============================] - 8s 847ms/step - loss: 1.5678 - acc: 0.6150 - val_loss: 1.5435 - val_acc: 0.6710\n",
      "Epoch 36/100\n",
      "10/10 [==============================] - 8s 838ms/step - loss: 1.6431 - acc: 0.5920 - val_loss: 1.4890 - val_acc: 0.6760\n",
      "Epoch 37/100\n",
      "10/10 [==============================] - 8s 843ms/step - loss: 1.5195 - acc: 0.6130 - val_loss: 1.3767 - val_acc: 0.6720\n",
      "Epoch 38/100\n",
      "10/10 [==============================] - 8s 837ms/step - loss: 1.4195 - acc: 0.6450 - val_loss: 1.4013 - val_acc: 0.6720\n",
      "Epoch 39/100\n",
      "10/10 [==============================] - 9s 850ms/step - loss: 1.4713 - acc: 0.6260 - val_loss: 1.2595 - val_acc: 0.7180\n",
      "Epoch 40/100\n",
      "10/10 [==============================] - 8s 840ms/step - loss: 1.4676 - acc: 0.6290 - val_loss: 1.2769 - val_acc: 0.6980\n",
      "Epoch 41/100\n",
      "10/10 [==============================] - 8s 841ms/step - loss: 1.4160 - acc: 0.6490 - val_loss: 1.2090 - val_acc: 0.6990\n",
      "Epoch 42/100\n",
      "10/10 [==============================] - 8s 846ms/step - loss: 1.4450 - acc: 0.6490 - val_loss: 1.4378 - val_acc: 0.6700\n",
      "Epoch 43/100\n",
      "10/10 [==============================] - 9s 895ms/step - loss: 1.3924 - acc: 0.6390 - val_loss: 1.4289 - val_acc: 0.6680\n",
      "Epoch 44/100\n",
      "10/10 [==============================] - 10s 969ms/step - loss: 1.4146 - acc: 0.6370 - val_loss: 1.2774 - val_acc: 0.7100\n",
      "Epoch 45/100\n",
      "10/10 [==============================] - 9s 856ms/step - loss: 1.3597 - acc: 0.6450 - val_loss: 1.3372 - val_acc: 0.6960\n",
      "Epoch 46/100\n",
      "10/10 [==============================] - 8s 837ms/step - loss: 1.3583 - acc: 0.6470 - val_loss: 1.3711 - val_acc: 0.6740\n",
      "Epoch 47/100\n",
      "10/10 [==============================] - 8s 846ms/step - loss: 1.3084 - acc: 0.6630 - val_loss: 1.2283 - val_acc: 0.7010\n",
      "Epoch 48/100\n",
      "10/10 [==============================] - 9s 881ms/step - loss: 1.2738 - acc: 0.6600 - val_loss: 1.2810 - val_acc: 0.7030\n",
      "Epoch 49/100\n",
      "10/10 [==============================] - 9s 871ms/step - loss: 1.3332 - acc: 0.6510 - val_loss: 1.2489 - val_acc: 0.6960\n",
      "Epoch 50/100\n",
      "10/10 [==============================] - 9s 856ms/step - loss: 1.2887 - acc: 0.6670 - val_loss: 1.1259 - val_acc: 0.7390\n",
      "Epoch 51/100\n",
      "10/10 [==============================] - 8s 845ms/step - loss: 1.2065 - acc: 0.6810 - val_loss: 1.0503 - val_acc: 0.7440\n",
      "Epoch 52/100\n",
      "10/10 [==============================] - 9s 885ms/step - loss: 1.2149 - acc: 0.6650 - val_loss: 1.2001 - val_acc: 0.6960\n",
      "Epoch 53/100\n",
      "10/10 [==============================] - 9s 882ms/step - loss: 1.2270 - acc: 0.6780 - val_loss: 1.2556 - val_acc: 0.6980\n",
      "Epoch 54/100\n",
      "10/10 [==============================] - 10s 1s/step - loss: 1.2590 - acc: 0.6470 - val_loss: 1.2608 - val_acc: 0.6790\n",
      "Epoch 55/100\n",
      "10/10 [==============================] - 10s 967ms/step - loss: 1.1622 - acc: 0.6860 - val_loss: 1.1892 - val_acc: 0.7090\n",
      "Epoch 56/100\n",
      "10/10 [==============================] - 9s 866ms/step - loss: 1.1521 - acc: 0.6950 - val_loss: 1.3151 - val_acc: 0.6810\n",
      "Epoch 57/100\n",
      "10/10 [==============================] - 8s 835ms/step - loss: 1.1940 - acc: 0.6880 - val_loss: 1.1312 - val_acc: 0.7080\n",
      "Epoch 58/100\n",
      "10/10 [==============================] - 8s 839ms/step - loss: 1.1274 - acc: 0.7080 - val_loss: 0.9226 - val_acc: 0.7700\n",
      "Epoch 59/100\n",
      "10/10 [==============================] - 8s 847ms/step - loss: 1.1513 - acc: 0.6910 - val_loss: 1.0147 - val_acc: 0.7490\n",
      "Epoch 60/100\n",
      "10/10 [==============================] - 8s 837ms/step - loss: 1.1281 - acc: 0.6890 - val_loss: 1.0349 - val_acc: 0.7420\n",
      "Epoch 61/100\n",
      "10/10 [==============================] - 9s 859ms/step - loss: 1.1743 - acc: 0.6980 - val_loss: 1.1347 - val_acc: 0.7020\n",
      "Epoch 62/100\n",
      "10/10 [==============================] - 11s 1s/step - loss: 1.1174 - acc: 0.7160 - val_loss: 1.3405 - val_acc: 0.6540\n",
      "Epoch 63/100\n",
      "10/10 [==============================] - 8s 848ms/step - loss: 1.0820 - acc: 0.7060 - val_loss: 1.0582 - val_acc: 0.7260\n",
      "Epoch 64/100\n",
      "10/10 [==============================] - 9s 854ms/step - loss: 1.1239 - acc: 0.6980 - val_loss: 1.0409 - val_acc: 0.7473\n",
      "Epoch 65/100\n",
      "10/10 [==============================] - 8s 835ms/step - loss: 1.0847 - acc: 0.7150 - val_loss: 1.0449 - val_acc: 0.7440\n",
      "Epoch 66/100\n",
      "10/10 [==============================] - 8s 835ms/step - loss: 1.0202 - acc: 0.7310 - val_loss: 1.1113 - val_acc: 0.7200\n",
      "Epoch 67/100\n",
      "10/10 [==============================] - 8s 835ms/step - loss: 1.0724 - acc: 0.7100 - val_loss: 0.9677 - val_acc: 0.7510\n",
      "Epoch 68/100\n",
      "10/10 [==============================] - 9s 855ms/step - loss: 1.0722 - acc: 0.7160 - val_loss: 1.0722 - val_acc: 0.7430\n",
      "Epoch 00068: early stopping\n"
     ]
    }
   ],
   "source": [
    "#model.compile(loss='categorical_crossentropy',optimizer='Adam',metrics=['accuracy'])\n",
    "history = model.fit_generator(train_generator, \n",
    "    epochs=100,#총 30번\n",
    "    steps_per_epoch=10, #에폭 당 스텝 수, 즉 배치size가 10이므로 1000개씩만 돌리는 거임\n",
    "    validation_data=validation_generator, #검증용 데이터로 평가\n",
    "    validation_steps=10,  #검증용 데이터는 10개(배치) * 10번 즉 100번만\n",
    "    callbacks=[early_stopping]\n",
    "                             \n",
    ")\n",
    "model.save('model_keras_nomal.h5')"
   ]
  },
  {
   "cell_type": "code",
   "execution_count": 18,
   "metadata": {},
   "outputs": [
    {
     "data": {
      "image/svg+xml": [
       "<svg height=\"875pt\" viewBox=\"0.00 0.00 392.00 875.00\" width=\"392pt\" xmlns=\"http://www.w3.org/2000/svg\" xmlns:xlink=\"http://www.w3.org/1999/xlink\">\n",
       "<g class=\"graph\" id=\"graph0\" transform=\"scale(1 1) rotate(0) translate(4 871)\">\n",
       "<title>G</title>\n",
       "<polygon fill=\"white\" points=\"-4,4 -4,-871 388,-871 388,4 -4,4\" stroke=\"none\"/>\n",
       "<!-- 2809609859424 -->\n",
       "<g class=\"node\" id=\"node1\"><title>2809609859424</title>\n",
       "<polygon fill=\"none\" points=\"41,-747.5 41,-793.5 343,-793.5 343,-747.5 41,-747.5\" stroke=\"black\"/>\n",
       "<text font-family=\"Times New Roman,serif\" font-size=\"14.00\" text-anchor=\"middle\" x=\"104.5\" y=\"-766.8\">conv2d_1: Conv2D</text>\n",
       "<polyline fill=\"none\" points=\"168,-747.5 168,-793.5 \" stroke=\"black\"/>\n",
       "<text font-family=\"Times New Roman,serif\" font-size=\"14.00\" text-anchor=\"middle\" x=\"196\" y=\"-778.3\">input:</text>\n",
       "<polyline fill=\"none\" points=\"168,-770.5 224,-770.5 \" stroke=\"black\"/>\n",
       "<text font-family=\"Times New Roman,serif\" font-size=\"14.00\" text-anchor=\"middle\" x=\"196\" y=\"-755.3\">output:</text>\n",
       "<polyline fill=\"none\" points=\"224,-747.5 224,-793.5 \" stroke=\"black\"/>\n",
       "<text font-family=\"Times New Roman,serif\" font-size=\"14.00\" text-anchor=\"middle\" x=\"283.5\" y=\"-778.3\">(None, 45, 45, 3)</text>\n",
       "<polyline fill=\"none\" points=\"224,-770.5 343,-770.5 \" stroke=\"black\"/>\n",
       "<text font-family=\"Times New Roman,serif\" font-size=\"14.00\" text-anchor=\"middle\" x=\"283.5\" y=\"-755.3\">(None, 43, 43, 32)</text>\n",
       "</g>\n",
       "<!-- 2809574690208 -->\n",
       "<g class=\"node\" id=\"node2\"><title>2809574690208</title>\n",
       "<polygon fill=\"none\" points=\"0,-664.5 0,-710.5 384,-710.5 384,-664.5 0,-664.5\" stroke=\"black\"/>\n",
       "<text font-family=\"Times New Roman,serif\" font-size=\"14.00\" text-anchor=\"middle\" x=\"104.5\" y=\"-683.8\">max_pooling2d_1: MaxPooling2D</text>\n",
       "<polyline fill=\"none\" points=\"209,-664.5 209,-710.5 \" stroke=\"black\"/>\n",
       "<text font-family=\"Times New Roman,serif\" font-size=\"14.00\" text-anchor=\"middle\" x=\"237\" y=\"-695.3\">input:</text>\n",
       "<polyline fill=\"none\" points=\"209,-687.5 265,-687.5 \" stroke=\"black\"/>\n",
       "<text font-family=\"Times New Roman,serif\" font-size=\"14.00\" text-anchor=\"middle\" x=\"237\" y=\"-672.3\">output:</text>\n",
       "<polyline fill=\"none\" points=\"265,-664.5 265,-710.5 \" stroke=\"black\"/>\n",
       "<text font-family=\"Times New Roman,serif\" font-size=\"14.00\" text-anchor=\"middle\" x=\"324.5\" y=\"-695.3\">(None, 43, 43, 32)</text>\n",
       "<polyline fill=\"none\" points=\"265,-687.5 384,-687.5 \" stroke=\"black\"/>\n",
       "<text font-family=\"Times New Roman,serif\" font-size=\"14.00\" text-anchor=\"middle\" x=\"324.5\" y=\"-672.3\">(None, 21, 21, 32)</text>\n",
       "</g>\n",
       "<!-- 2809609859424&#45;&gt;2809574690208 -->\n",
       "<g class=\"edge\" id=\"edge2\"><title>2809609859424-&gt;2809574690208</title>\n",
       "<path d=\"M192,-747.366C192,-739.152 192,-729.658 192,-720.725\" fill=\"none\" stroke=\"black\"/>\n",
       "<polygon fill=\"black\" points=\"195.5,-720.607 192,-710.607 188.5,-720.607 195.5,-720.607\" stroke=\"black\"/>\n",
       "</g>\n",
       "<!-- 2809609861944 -->\n",
       "<g class=\"node\" id=\"node3\"><title>2809609861944</title>\n",
       "<polygon fill=\"none\" points=\"41,-581.5 41,-627.5 343,-627.5 343,-581.5 41,-581.5\" stroke=\"black\"/>\n",
       "<text font-family=\"Times New Roman,serif\" font-size=\"14.00\" text-anchor=\"middle\" x=\"104.5\" y=\"-600.8\">conv2d_2: Conv2D</text>\n",
       "<polyline fill=\"none\" points=\"168,-581.5 168,-627.5 \" stroke=\"black\"/>\n",
       "<text font-family=\"Times New Roman,serif\" font-size=\"14.00\" text-anchor=\"middle\" x=\"196\" y=\"-612.3\">input:</text>\n",
       "<polyline fill=\"none\" points=\"168,-604.5 224,-604.5 \" stroke=\"black\"/>\n",
       "<text font-family=\"Times New Roman,serif\" font-size=\"14.00\" text-anchor=\"middle\" x=\"196\" y=\"-589.3\">output:</text>\n",
       "<polyline fill=\"none\" points=\"224,-581.5 224,-627.5 \" stroke=\"black\"/>\n",
       "<text font-family=\"Times New Roman,serif\" font-size=\"14.00\" text-anchor=\"middle\" x=\"283.5\" y=\"-612.3\">(None, 21, 21, 32)</text>\n",
       "<polyline fill=\"none\" points=\"224,-604.5 343,-604.5 \" stroke=\"black\"/>\n",
       "<text font-family=\"Times New Roman,serif\" font-size=\"14.00\" text-anchor=\"middle\" x=\"283.5\" y=\"-589.3\">(None, 19, 19, 64)</text>\n",
       "</g>\n",
       "<!-- 2809574690208&#45;&gt;2809609861944 -->\n",
       "<g class=\"edge\" id=\"edge3\"><title>2809574690208-&gt;2809609861944</title>\n",
       "<path d=\"M192,-664.366C192,-656.152 192,-646.658 192,-637.725\" fill=\"none\" stroke=\"black\"/>\n",
       "<polygon fill=\"black\" points=\"195.5,-637.607 192,-627.607 188.5,-637.607 195.5,-637.607\" stroke=\"black\"/>\n",
       "</g>\n",
       "<!-- 2809609862168 -->\n",
       "<g class=\"node\" id=\"node4\"><title>2809609862168</title>\n",
       "<polygon fill=\"none\" points=\"0,-498.5 0,-544.5 384,-544.5 384,-498.5 0,-498.5\" stroke=\"black\"/>\n",
       "<text font-family=\"Times New Roman,serif\" font-size=\"14.00\" text-anchor=\"middle\" x=\"104.5\" y=\"-517.8\">max_pooling2d_2: MaxPooling2D</text>\n",
       "<polyline fill=\"none\" points=\"209,-498.5 209,-544.5 \" stroke=\"black\"/>\n",
       "<text font-family=\"Times New Roman,serif\" font-size=\"14.00\" text-anchor=\"middle\" x=\"237\" y=\"-529.3\">input:</text>\n",
       "<polyline fill=\"none\" points=\"209,-521.5 265,-521.5 \" stroke=\"black\"/>\n",
       "<text font-family=\"Times New Roman,serif\" font-size=\"14.00\" text-anchor=\"middle\" x=\"237\" y=\"-506.3\">output:</text>\n",
       "<polyline fill=\"none\" points=\"265,-498.5 265,-544.5 \" stroke=\"black\"/>\n",
       "<text font-family=\"Times New Roman,serif\" font-size=\"14.00\" text-anchor=\"middle\" x=\"324.5\" y=\"-529.3\">(None, 19, 19, 64)</text>\n",
       "<polyline fill=\"none\" points=\"265,-521.5 384,-521.5 \" stroke=\"black\"/>\n",
       "<text font-family=\"Times New Roman,serif\" font-size=\"14.00\" text-anchor=\"middle\" x=\"324.5\" y=\"-506.3\">(None, 9, 9, 64)</text>\n",
       "</g>\n",
       "<!-- 2809609861944&#45;&gt;2809609862168 -->\n",
       "<g class=\"edge\" id=\"edge4\"><title>2809609861944-&gt;2809609862168</title>\n",
       "<path d=\"M192,-581.366C192,-573.152 192,-563.658 192,-554.725\" fill=\"none\" stroke=\"black\"/>\n",
       "<polygon fill=\"black\" points=\"195.5,-554.607 192,-544.607 188.5,-554.607 195.5,-554.607\" stroke=\"black\"/>\n",
       "</g>\n",
       "<!-- 2809619230672 -->\n",
       "<g class=\"node\" id=\"node5\"><title>2809619230672</title>\n",
       "<polygon fill=\"none\" points=\"44.5,-415.5 44.5,-461.5 339.5,-461.5 339.5,-415.5 44.5,-415.5\" stroke=\"black\"/>\n",
       "<text font-family=\"Times New Roman,serif\" font-size=\"14.00\" text-anchor=\"middle\" x=\"108\" y=\"-434.8\">conv2d_3: Conv2D</text>\n",
       "<polyline fill=\"none\" points=\"171.5,-415.5 171.5,-461.5 \" stroke=\"black\"/>\n",
       "<text font-family=\"Times New Roman,serif\" font-size=\"14.00\" text-anchor=\"middle\" x=\"199.5\" y=\"-446.3\">input:</text>\n",
       "<polyline fill=\"none\" points=\"171.5,-438.5 227.5,-438.5 \" stroke=\"black\"/>\n",
       "<text font-family=\"Times New Roman,serif\" font-size=\"14.00\" text-anchor=\"middle\" x=\"199.5\" y=\"-423.3\">output:</text>\n",
       "<polyline fill=\"none\" points=\"227.5,-415.5 227.5,-461.5 \" stroke=\"black\"/>\n",
       "<text font-family=\"Times New Roman,serif\" font-size=\"14.00\" text-anchor=\"middle\" x=\"283.5\" y=\"-446.3\">(None, 9, 9, 64)</text>\n",
       "<polyline fill=\"none\" points=\"227.5,-438.5 339.5,-438.5 \" stroke=\"black\"/>\n",
       "<text font-family=\"Times New Roman,serif\" font-size=\"14.00\" text-anchor=\"middle\" x=\"283.5\" y=\"-423.3\">(None, 7, 7, 128)</text>\n",
       "</g>\n",
       "<!-- 2809609862168&#45;&gt;2809619230672 -->\n",
       "<g class=\"edge\" id=\"edge5\"><title>2809609862168-&gt;2809619230672</title>\n",
       "<path d=\"M192,-498.366C192,-490.152 192,-480.658 192,-471.725\" fill=\"none\" stroke=\"black\"/>\n",
       "<polygon fill=\"black\" points=\"195.5,-471.607 192,-461.607 188.5,-471.607 195.5,-471.607\" stroke=\"black\"/>\n",
       "</g>\n",
       "<!-- 2809619377848 -->\n",
       "<g class=\"node\" id=\"node6\"><title>2809619377848</title>\n",
       "<polygon fill=\"none\" points=\"3.5,-332.5 3.5,-378.5 380.5,-378.5 380.5,-332.5 3.5,-332.5\" stroke=\"black\"/>\n",
       "<text font-family=\"Times New Roman,serif\" font-size=\"14.00\" text-anchor=\"middle\" x=\"108\" y=\"-351.8\">max_pooling2d_3: MaxPooling2D</text>\n",
       "<polyline fill=\"none\" points=\"212.5,-332.5 212.5,-378.5 \" stroke=\"black\"/>\n",
       "<text font-family=\"Times New Roman,serif\" font-size=\"14.00\" text-anchor=\"middle\" x=\"240.5\" y=\"-363.3\">input:</text>\n",
       "<polyline fill=\"none\" points=\"212.5,-355.5 268.5,-355.5 \" stroke=\"black\"/>\n",
       "<text font-family=\"Times New Roman,serif\" font-size=\"14.00\" text-anchor=\"middle\" x=\"240.5\" y=\"-340.3\">output:</text>\n",
       "<polyline fill=\"none\" points=\"268.5,-332.5 268.5,-378.5 \" stroke=\"black\"/>\n",
       "<text font-family=\"Times New Roman,serif\" font-size=\"14.00\" text-anchor=\"middle\" x=\"324.5\" y=\"-363.3\">(None, 7, 7, 128)</text>\n",
       "<polyline fill=\"none\" points=\"268.5,-355.5 380.5,-355.5 \" stroke=\"black\"/>\n",
       "<text font-family=\"Times New Roman,serif\" font-size=\"14.00\" text-anchor=\"middle\" x=\"324.5\" y=\"-340.3\">(None, 3, 3, 128)</text>\n",
       "</g>\n",
       "<!-- 2809619230672&#45;&gt;2809619377848 -->\n",
       "<g class=\"edge\" id=\"edge6\"><title>2809619230672-&gt;2809619377848</title>\n",
       "<path d=\"M192,-415.366C192,-407.152 192,-397.658 192,-388.725\" fill=\"none\" stroke=\"black\"/>\n",
       "<polygon fill=\"black\" points=\"195.5,-388.607 192,-378.607 188.5,-388.607 195.5,-388.607\" stroke=\"black\"/>\n",
       "</g>\n",
       "<!-- 2809619557680 -->\n",
       "<g class=\"node\" id=\"node7\"><title>2809619557680</title>\n",
       "<polygon fill=\"none\" points=\"44.5,-249.5 44.5,-295.5 339.5,-295.5 339.5,-249.5 44.5,-249.5\" stroke=\"black\"/>\n",
       "<text font-family=\"Times New Roman,serif\" font-size=\"14.00\" text-anchor=\"middle\" x=\"108\" y=\"-268.8\">conv2d_4: Conv2D</text>\n",
       "<polyline fill=\"none\" points=\"171.5,-249.5 171.5,-295.5 \" stroke=\"black\"/>\n",
       "<text font-family=\"Times New Roman,serif\" font-size=\"14.00\" text-anchor=\"middle\" x=\"199.5\" y=\"-280.3\">input:</text>\n",
       "<polyline fill=\"none\" points=\"171.5,-272.5 227.5,-272.5 \" stroke=\"black\"/>\n",
       "<text font-family=\"Times New Roman,serif\" font-size=\"14.00\" text-anchor=\"middle\" x=\"199.5\" y=\"-257.3\">output:</text>\n",
       "<polyline fill=\"none\" points=\"227.5,-249.5 227.5,-295.5 \" stroke=\"black\"/>\n",
       "<text font-family=\"Times New Roman,serif\" font-size=\"14.00\" text-anchor=\"middle\" x=\"283.5\" y=\"-280.3\">(None, 3, 3, 128)</text>\n",
       "<polyline fill=\"none\" points=\"227.5,-272.5 339.5,-272.5 \" stroke=\"black\"/>\n",
       "<text font-family=\"Times New Roman,serif\" font-size=\"14.00\" text-anchor=\"middle\" x=\"283.5\" y=\"-257.3\">(None, 1, 1, 128)</text>\n",
       "</g>\n",
       "<!-- 2809619377848&#45;&gt;2809619557680 -->\n",
       "<g class=\"edge\" id=\"edge7\"><title>2809619377848-&gt;2809619557680</title>\n",
       "<path d=\"M192,-332.366C192,-324.152 192,-314.658 192,-305.725\" fill=\"none\" stroke=\"black\"/>\n",
       "<polygon fill=\"black\" points=\"195.5,-305.607 192,-295.607 188.5,-305.607 195.5,-305.607\" stroke=\"black\"/>\n",
       "</g>\n",
       "<!-- 2809619672200 -->\n",
       "<g class=\"node\" id=\"node8\"><title>2809619672200</title>\n",
       "<polygon fill=\"none\" points=\"53.5,-166.5 53.5,-212.5 330.5,-212.5 330.5,-166.5 53.5,-166.5\" stroke=\"black\"/>\n",
       "<text font-family=\"Times New Roman,serif\" font-size=\"14.00\" text-anchor=\"middle\" x=\"108\" y=\"-185.8\">flatten_1: Flatten</text>\n",
       "<polyline fill=\"none\" points=\"162.5,-166.5 162.5,-212.5 \" stroke=\"black\"/>\n",
       "<text font-family=\"Times New Roman,serif\" font-size=\"14.00\" text-anchor=\"middle\" x=\"190.5\" y=\"-197.3\">input:</text>\n",
       "<polyline fill=\"none\" points=\"162.5,-189.5 218.5,-189.5 \" stroke=\"black\"/>\n",
       "<text font-family=\"Times New Roman,serif\" font-size=\"14.00\" text-anchor=\"middle\" x=\"190.5\" y=\"-174.3\">output:</text>\n",
       "<polyline fill=\"none\" points=\"218.5,-166.5 218.5,-212.5 \" stroke=\"black\"/>\n",
       "<text font-family=\"Times New Roman,serif\" font-size=\"14.00\" text-anchor=\"middle\" x=\"274.5\" y=\"-197.3\">(None, 1, 1, 128)</text>\n",
       "<polyline fill=\"none\" points=\"218.5,-189.5 330.5,-189.5 \" stroke=\"black\"/>\n",
       "<text font-family=\"Times New Roman,serif\" font-size=\"14.00\" text-anchor=\"middle\" x=\"274.5\" y=\"-174.3\">(None, 128)</text>\n",
       "</g>\n",
       "<!-- 2809619557680&#45;&gt;2809619672200 -->\n",
       "<g class=\"edge\" id=\"edge8\"><title>2809619557680-&gt;2809619672200</title>\n",
       "<path d=\"M192,-249.366C192,-241.152 192,-231.658 192,-222.725\" fill=\"none\" stroke=\"black\"/>\n",
       "<polygon fill=\"black\" points=\"195.5,-222.607 192,-212.607 188.5,-222.607 195.5,-222.607\" stroke=\"black\"/>\n",
       "</g>\n",
       "<!-- 2809619764504 -->\n",
       "<g class=\"node\" id=\"node9\"><title>2809619764504</title>\n",
       "<polygon fill=\"none\" points=\"70.5,-83.5 70.5,-129.5 313.5,-129.5 313.5,-83.5 70.5,-83.5\" stroke=\"black\"/>\n",
       "<text font-family=\"Times New Roman,serif\" font-size=\"14.00\" text-anchor=\"middle\" x=\"122.5\" y=\"-102.8\">dense_1: Dense</text>\n",
       "<polyline fill=\"none\" points=\"174.5,-83.5 174.5,-129.5 \" stroke=\"black\"/>\n",
       "<text font-family=\"Times New Roman,serif\" font-size=\"14.00\" text-anchor=\"middle\" x=\"202.5\" y=\"-114.3\">input:</text>\n",
       "<polyline fill=\"none\" points=\"174.5,-106.5 230.5,-106.5 \" stroke=\"black\"/>\n",
       "<text font-family=\"Times New Roman,serif\" font-size=\"14.00\" text-anchor=\"middle\" x=\"202.5\" y=\"-91.3\">output:</text>\n",
       "<polyline fill=\"none\" points=\"230.5,-83.5 230.5,-129.5 \" stroke=\"black\"/>\n",
       "<text font-family=\"Times New Roman,serif\" font-size=\"14.00\" text-anchor=\"middle\" x=\"272\" y=\"-114.3\">(None, 128)</text>\n",
       "<polyline fill=\"none\" points=\"230.5,-106.5 313.5,-106.5 \" stroke=\"black\"/>\n",
       "<text font-family=\"Times New Roman,serif\" font-size=\"14.00\" text-anchor=\"middle\" x=\"272\" y=\"-91.3\">(None, 512)</text>\n",
       "</g>\n",
       "<!-- 2809619672200&#45;&gt;2809619764504 -->\n",
       "<g class=\"edge\" id=\"edge9\"><title>2809619672200-&gt;2809619764504</title>\n",
       "<path d=\"M192,-166.366C192,-158.152 192,-148.658 192,-139.725\" fill=\"none\" stroke=\"black\"/>\n",
       "<polygon fill=\"black\" points=\"195.5,-139.607 192,-129.607 188.5,-139.607 195.5,-139.607\" stroke=\"black\"/>\n",
       "</g>\n",
       "<!-- 2809619766968 -->\n",
       "<g class=\"node\" id=\"node10\"><title>2809619766968</title>\n",
       "<polygon fill=\"none\" points=\"70.5,-0.5 70.5,-46.5 313.5,-46.5 313.5,-0.5 70.5,-0.5\" stroke=\"black\"/>\n",
       "<text font-family=\"Times New Roman,serif\" font-size=\"14.00\" text-anchor=\"middle\" x=\"122.5\" y=\"-19.8\">dense_2: Dense</text>\n",
       "<polyline fill=\"none\" points=\"174.5,-0.5 174.5,-46.5 \" stroke=\"black\"/>\n",
       "<text font-family=\"Times New Roman,serif\" font-size=\"14.00\" text-anchor=\"middle\" x=\"202.5\" y=\"-31.3\">input:</text>\n",
       "<polyline fill=\"none\" points=\"174.5,-23.5 230.5,-23.5 \" stroke=\"black\"/>\n",
       "<text font-family=\"Times New Roman,serif\" font-size=\"14.00\" text-anchor=\"middle\" x=\"202.5\" y=\"-8.3\">output:</text>\n",
       "<polyline fill=\"none\" points=\"230.5,-0.5 230.5,-46.5 \" stroke=\"black\"/>\n",
       "<text font-family=\"Times New Roman,serif\" font-size=\"14.00\" text-anchor=\"middle\" x=\"272\" y=\"-31.3\">(None, 512)</text>\n",
       "<polyline fill=\"none\" points=\"230.5,-23.5 313.5,-23.5 \" stroke=\"black\"/>\n",
       "<text font-family=\"Times New Roman,serif\" font-size=\"14.00\" text-anchor=\"middle\" x=\"272\" y=\"-8.3\">(None, 46)</text>\n",
       "</g>\n",
       "<!-- 2809619764504&#45;&gt;2809619766968 -->\n",
       "<g class=\"edge\" id=\"edge10\"><title>2809619764504-&gt;2809619766968</title>\n",
       "<path d=\"M192,-83.3664C192,-75.1516 192,-65.6579 192,-56.7252\" fill=\"none\" stroke=\"black\"/>\n",
       "<polygon fill=\"black\" points=\"195.5,-56.6068 192,-46.6068 188.5,-56.6069 195.5,-56.6068\" stroke=\"black\"/>\n",
       "</g>\n",
       "<!-- 2809609860712 -->\n",
       "<g class=\"node\" id=\"node11\"><title>2809609860712</title>\n",
       "<polygon fill=\"none\" points=\"140,-830.5 140,-866.5 244,-866.5 244,-830.5 140,-830.5\" stroke=\"black\"/>\n",
       "<text font-family=\"Times New Roman,serif\" font-size=\"14.00\" text-anchor=\"middle\" x=\"192\" y=\"-844.8\">2809609860712</text>\n",
       "</g>\n",
       "<!-- 2809609860712&#45;&gt;2809609859424 -->\n",
       "<g class=\"edge\" id=\"edge1\"><title>2809609860712-&gt;2809609859424</title>\n",
       "<path d=\"M192,-830.254C192,-822.363 192,-812.749 192,-803.602\" fill=\"none\" stroke=\"black\"/>\n",
       "<polygon fill=\"black\" points=\"195.5,-803.591 192,-793.591 188.5,-803.591 195.5,-803.591\" stroke=\"black\"/>\n",
       "</g>\n",
       "</g>\n",
       "</svg>"
      ],
      "text/plain": [
       "<IPython.core.display.SVG object>"
      ]
     },
     "execution_count": 18,
     "metadata": {},
     "output_type": "execute_result"
    }
   ],
   "source": [
    "from IPython.display import SVG\n",
    "from keras.utils.vis_utils import model_to_dot\n",
    "\n",
    "%matplotlib inline\n",
    "\n",
    "SVG(model_to_dot(model, show_shapes=True).create(prog='dot', format='svg'))"
   ]
  },
  {
   "cell_type": "code",
   "execution_count": 19,
   "metadata": {},
   "outputs": [
    {
     "data": {
      "image/png": "[encoded data removed]",
      "text/plain": [
       "<Figure size 432x288 with 2 Axes>"
      ]
     },
     "metadata": {
      "needs_background": "light"
     },
     "output_type": "display_data"
    }
   ],
   "source": [
    "fig, loss_ax = plt.subplots()\n",
    "\n",
    "acc_ax = loss_ax.twinx()\n",
    "\n",
    "loss_ax.plot(history.history['loss'], 'y', label='train loss')\n",
    "loss_ax.plot(history.history['val_loss'], 'r', label='val loss')\n",
    "\n",
    "acc_ax.plot(history.history['acc'], 'b', label='train acc')\n",
    "acc_ax.plot(history.history['val_acc'], 'g', label='val acc')\n",
    "\n",
    "loss_ax.set_xlabel('epoch')\n",
    "loss_ax.set_ylabel('loss')\n",
    "acc_ax.set_ylabel('accuray')\n",
    "\n",
    "loss_ax.legend(loc='upper left')\n",
    "acc_ax.legend(loc='lower left')\n",
    "\n",
    "plt.show()"
   ]
  },
  {
   "cell_type": "code",
   "execution_count": 20,
   "metadata": {},
   "outputs": [
    {
     "name": "stdout",
     "output_type": "stream",
     "text": [
      "-- Predict --\n"
     ]
    }
   ],
   "source": [
    "# 모델 예측하기\n",
    "print(\"-- Predict --\")\n",
    "\n",
    "output = model.predict_generator(\n",
    "            test_generator, \n",
    "            steps = 5)\n",
    "\n",
    "np.set_printoptions(formatter={'float': lambda x: \"{0:0.3f}\".format(x)})\n",
    "\n"
   ]
  },
  {
   "cell_type": "code",
   "execution_count": 21,
   "metadata": {},
   "outputs": [
    {
     "name": "stdout",
     "output_type": "stream",
     "text": [
      "[0.000 0.000 0.000 0.005 0.000 0.984 0.001 0.000 0.000 0.000 0.000 0.000\n",
      " 0.000 0.000 0.001 0.000 0.000 0.000 0.000 0.000 0.000 0.000 0.000 0.000\n",
      " 0.000 0.002 0.000 0.000 0.000 0.000 0.000 0.000 0.000 0.000 0.000 0.000\n",
      " 0.006 0.000 0.000 0.001 0.000 0.000 0.000 0.000 0.000 0.000]\n"
     ]
    }
   ],
   "source": [
    "print(output[0])"
   ]
  },
  {
   "cell_type": "code",
   "execution_count": 22,
   "metadata": {},
   "outputs": [
    {
     "name": "stdout",
     "output_type": "stream",
     "text": [
      "acc: 74.20%\n"
     ]
    }
   ],
   "source": [
    "scores = model.evaluate_generator(\n",
    "            test_generator, \n",
    "            steps = 5)\n",
    "model.save_weights('handwritten_noraml_checkpoint')\n",
    "print(\"%s: %.2f%%\" %(model.metrics_names[1], scores[1]*100))\n"
   ]
  },
  {
   "cell_type": "markdown",
   "metadata": {},
   "source": [
    "#OpenCV 이용, 실시간 인식"
   ]
  },
  {
   "cell_type": "markdown",
   "metadata": {},
   "source": [
    "step 1. 단순 이미지 영역 나누기"
   ]
  },
  {
   "cell_type": "code",
   "execution_count": 29,
   "metadata": {},
   "outputs": [],
   "source": [
    "import numpy as np\n",
    "import cv2\n",
    "\n",
    "original_image = cv2.imread(\"yongs_written/test_0.jpg\")\n",
    "image = original_image.copy()\n",
    "\n",
    "gray = cv2.cvtColor(image, cv2.COLOR_BGR2GRAY)\n",
    "blurred = cv2.GaussianBlur(gray, (3, 3), 0)\n",
    "thresh = cv2.threshold(blurred, 160, 255, cv2.THRESH_BINARY_INV)[1]\n",
    "kernel = cv2.getStructuringElement(cv2.MORPH_RECT, (3,3))\n",
    "dilate = cv2.dilate(thresh, kernel , iterations=4)"
   ]
  },
  {
   "cell_type": "code",
   "execution_count": 31,
   "metadata": {},
   "outputs": [
    {
     "name": "stdout",
     "output_type": "stream",
     "text": [
      "contours detected: 3 개\n"
     ]
    },
    {
     "data": {
      "text/plain": [
       "-1"
      ]
     },
     "execution_count": 31,
     "metadata": {},
     "output_type": "execute_result"
    }
   ],
   "source": [
    "cnts = cv2.findContours(dilate.copy(), cv2.RETR_TREE, cv2.CHAIN_APPROX_SIMPLE)\n",
    "cnts = cnts[0] if len(cnts) == 2 else cnts[1]\n",
    "\n",
    "contours = []\n",
    "\n",
    "threshold_min_area = 400\n",
    "threshold_max_area = 3000\n",
    "\n",
    "for c in cnts:\n",
    "    x,y,w,h = cv2.boundingRect(c)\n",
    "    area = cv2.contourArea(c)\n",
    "    if area > threshold_min_area and area < threshold_max_area:\n",
    "        # cv2.drawContours(original_image,[c], 0, (0,255,0), 3)\n",
    "        cv2.rectangle(original_image, (x,y), (x+w, y+h), (0,255,0),1)\n",
    "        contours.append(c)\n",
    "\n",
    "\n",
    "cv2.imshow(\"detected\", original_image) \n",
    "print('contours detected: {}'.format(len(contours)),\"개\")\n",
    "cv2.waitKey(0)"
   ]
  },
  {
   "cell_type": "code",
   "execution_count": 32,
   "metadata": {},
   "outputs": [],
   "source": [
    "import matplotlib.image as mpimg\n",
    "import matplotlib.pyplot as plt"
   ]
  },
  {
   "cell_type": "code",
   "execution_count": 33,
   "metadata": {},
   "outputs": [
    {
     "data": {
      "image/png": "[encoded data removed]",
      "text/plain": [
       "<Figure size 432x288 with 1 Axes>"
      ]
     },
     "metadata": {
      "needs_background": "light"
     },
     "output_type": "display_data"
    }
   ],
   "source": [
    "i=0\n",
    "for cnt in contours:\n",
    "    x, y, w, h = cv2.boundingRect(cnt)\n",
    "    if h < 20: continue # 너무 작으면 건너뛰기\n",
    "    red = (0, 0, 255)\n",
    "    cv2.rectangle(image, (x, y), (x+w, y+h), red, 2)\n",
    "    cv2.imwrite('capture/numbers-contour'+str(i)+'.png', image) \n",
    "\n",
    "cv2.imwrite('numbers100-contour.png', image) \n",
    "\n",
    "image = mpimg.imread(\"numbers100-contour.png\")\n",
    "plt.imshow(image)\n",
    "plt.show()"
   ]
  },
  {
   "cell_type": "code",
   "execution_count": 26,
   "metadata": {},
   "outputs": [
    {
     "data": {
      "text/plain": [
       "<Figure size 864x576 with 0 Axes>"
      ]
     },
     "metadata": {},
     "output_type": "display_data"
    }
   ],
   "source": [
    "count = 0\n",
    "nrows = 3\n",
    "ncols = 4\n",
    "\n",
    "plt.figure(figsize=(12,8))\n",
    "\n",
    "for n in img_result:\n",
    "    count += 1\n",
    "    plt.subplot(nrows, ncols, count)\n",
    "    plt.imshow(cv2.resize(n,(45,45)), cmap='Greys', interpolation='nearest')\n",
    "\n",
    "plt.tight_layout()\n",
    "plt.show()"
   ]
  },
  {
   "cell_type": "code",
   "execution_count": 34,
   "metadata": {},
   "outputs": [
    {
     "name": "stdout",
     "output_type": "stream",
     "text": [
      "__________________________________________________________________________________________________\n",
      "Layer (type)                    Output Shape         Param #     Connected to                     \n",
      "==================================================================================================\n",
      "input_1 (InputLayer)            (None, 45, 45, 3)    0                                            \n",
      "__________________________________________________________________________________________________\n",
      "block1_conv2 (Conv2D)           (None, 43, 43, 256)  7168        input_1[0][0]                    \n",
      "__________________________________________________________________________________________________\n",
      "global_average_pooling2d_1 (Glo (None, 256)          0           block1_conv2[0][0]               \n",
      "__________________________________________________________________________________________________\n",
      "global_max_pooling2d_1 (GlobalM (None, 256)          0           block1_conv2[0][0]               \n",
      "__________________________________________________________________________________________________\n",
      "reshape_1 (Reshape)             (None, 1, 1, 256)    0           global_average_pooling2d_1[0][0] \n",
      "__________________________________________________________________________________________________\n",
      "reshape_2 (Reshape)             (None, 1, 1, 256)    0           global_max_pooling2d_1[0][0]     \n",
      "__________________________________________________________________________________________________\n",
      "dense_1 (Dense)                 (None, 1, 1, 32)     8224        reshape_1[0][0]                  \n",
      "                                                                 reshape_2[0][0]                  \n",
      "__________________________________________________________________________________________________\n",
      "dense_2 (Dense)                 (None, 1, 1, 256)    8448        dense_1[0][0]                    \n",
      "                                                                 dense_1[1][0]                    \n",
      "__________________________________________________________________________________________________\n",
      "add_1 (Add)                     (None, 1, 1, 256)    0           dense_2[0][0]                    \n",
      "                                                                 dense_2[1][0]                    \n",
      "__________________________________________________________________________________________________\n",
      "activation_1 (Activation)       (None, 1, 1, 256)    0           add_1[0][0]                      \n",
      "__________________________________________________________________________________________________\n",
      "multiply_1 (Multiply)           (None, 43, 43, 256)  0           block1_conv2[0][0]               \n",
      "                                                                 activation_1[0][0]               \n",
      "__________________________________________________________________________________________________\n",
      "lambda_1 (Lambda)               (None, 43, 43, 1)    0           multiply_1[0][0]                 \n",
      "__________________________________________________________________________________________________\n",
      "lambda_2 (Lambda)               (None, 43, 43, 1)    0           multiply_1[0][0]                 \n",
      "__________________________________________________________________________________________________\n",
      "concatenate_1 (Concatenate)     (None, 43, 43, 2)    0           lambda_1[0][0]                   \n",
      "                                                                 lambda_2[0][0]                   \n",
      "__________________________________________________________________________________________________\n",
      "conv2d_1 (Conv2D)               (None, 43, 43, 1)    98          concatenate_1[0][0]              \n",
      "__________________________________________________________________________________________________\n",
      "multiply_2 (Multiply)           (None, 43, 43, 256)  0           multiply_1[0][0]                 \n",
      "                                                                 conv2d_1[0][0]                   \n",
      "__________________________________________________________________________________________________\n",
      "block1_pool (MaxPooling2D)      (None, 21, 21, 256)  0           multiply_2[0][0]                 \n",
      "__________________________________________________________________________________________________\n",
      "block2_conv2 (Conv2D)           (None, 19, 19, 128)  295040      block1_pool[0][0]                \n",
      "__________________________________________________________________________________________________\n",
      "global_average_pooling2d_2 (Glo (None, 128)          0           block2_conv2[0][0]               \n",
      "__________________________________________________________________________________________________\n",
      "global_max_pooling2d_2 (GlobalM (None, 128)          0           block2_conv2[0][0]               \n",
      "__________________________________________________________________________________________________\n",
      "reshape_3 (Reshape)             (None, 1, 1, 128)    0           global_average_pooling2d_2[0][0] \n",
      "__________________________________________________________________________________________________\n",
      "reshape_4 (Reshape)             (None, 1, 1, 128)    0           global_max_pooling2d_2[0][0]     \n",
      "__________________________________________________________________________________________________\n",
      "dense_3 (Dense)                 (None, 1, 1, 16)     2064        reshape_3[0][0]                  \n",
      "                                                                 reshape_4[0][0]                  \n",
      "__________________________________________________________________________________________________\n",
      "dense_4 (Dense)                 (None, 1, 1, 128)    2176        dense_3[0][0]                    \n",
      "                                                                 dense_3[1][0]                    \n",
      "__________________________________________________________________________________________________\n",
      "add_2 (Add)                     (None, 1, 1, 128)    0           dense_4[0][0]                    \n",
      "                                                                 dense_4[1][0]                    \n",
      "__________________________________________________________________________________________________\n",
      "activation_2 (Activation)       (None, 1, 1, 128)    0           add_2[0][0]                      \n",
      "__________________________________________________________________________________________________\n",
      "multiply_3 (Multiply)           (None, 19, 19, 128)  0           block2_conv2[0][0]               \n",
      "                                                                 activation_2[0][0]               \n",
      "__________________________________________________________________________________________________\n",
      "lambda_3 (Lambda)               (None, 19, 19, 1)    0           multiply_3[0][0]                 \n",
      "__________________________________________________________________________________________________\n",
      "lambda_4 (Lambda)               (None, 19, 19, 1)    0           multiply_3[0][0]                 \n",
      "__________________________________________________________________________________________________\n",
      "concatenate_2 (Concatenate)     (None, 19, 19, 2)    0           lambda_3[0][0]                   \n",
      "                                                                 lambda_4[0][0]                   \n",
      "__________________________________________________________________________________________________\n",
      "conv2d_2 (Conv2D)               (None, 19, 19, 1)    98          concatenate_2[0][0]              \n",
      "__________________________________________________________________________________________________\n",
      "multiply_4 (Multiply)           (None, 19, 19, 128)  0           multiply_3[0][0]                 \n",
      "                                                                 conv2d_2[0][0]                   \n",
      "__________________________________________________________________________________________________\n",
      "block2_pool (MaxPooling2D)      (None, 9, 9, 128)    0           multiply_4[0][0]                 \n",
      "__________________________________________________________________________________________________\n",
      "block3_conv3 (Conv2D)           (None, 7, 7, 64)     73792       block2_pool[0][0]                \n",
      "__________________________________________________________________________________________________\n",
      "global_average_pooling2d_3 (Glo (None, 64)           0           block3_conv3[0][0]               \n",
      "__________________________________________________________________________________________________\n",
      "global_max_pooling2d_3 (GlobalM (None, 64)           0           block3_conv3[0][0]               \n",
      "__________________________________________________________________________________________________\n",
      "reshape_5 (Reshape)             (None, 1, 1, 64)     0           global_average_pooling2d_3[0][0] \n",
      "__________________________________________________________________________________________________\n",
      "reshape_6 (Reshape)             (None, 1, 1, 64)     0           global_max_pooling2d_3[0][0]     \n",
      "__________________________________________________________________________________________________\n",
      "dense_5 (Dense)                 (None, 1, 1, 8)      520         reshape_5[0][0]                  \n",
      "                                                                 reshape_6[0][0]                  \n",
      "__________________________________________________________________________________________________\n",
      "dense_6 (Dense)                 (None, 1, 1, 64)     576         dense_5[0][0]                    \n",
      "                                                                 dense_5[1][0]                    \n",
      "__________________________________________________________________________________________________\n",
      "add_3 (Add)                     (None, 1, 1, 64)     0           dense_6[0][0]                    \n",
      "                                                                 dense_6[1][0]                    \n",
      "__________________________________________________________________________________________________\n",
      "activation_3 (Activation)       (None, 1, 1, 64)     0           add_3[0][0]                      \n",
      "__________________________________________________________________________________________________\n",
      "multiply_5 (Multiply)           (None, 7, 7, 64)     0           block3_conv3[0][0]               \n",
      "                                                                 activation_3[0][0]               \n",
      "__________________________________________________________________________________________________\n",
      "lambda_5 (Lambda)               (None, 7, 7, 1)      0           multiply_5[0][0]                 \n",
      "__________________________________________________________________________________________________\n",
      "lambda_6 (Lambda)               (None, 7, 7, 1)      0           multiply_5[0][0]                 \n",
      "__________________________________________________________________________________________________\n",
      "concatenate_3 (Concatenate)     (None, 7, 7, 2)      0           lambda_5[0][0]                   \n",
      "                                                                 lambda_6[0][0]                   \n",
      "__________________________________________________________________________________________________\n",
      "conv2d_3 (Conv2D)               (None, 7, 7, 1)      98          concatenate_3[0][0]              \n",
      "__________________________________________________________________________________________________\n",
      "multiply_6 (Multiply)           (None, 7, 7, 64)     0           multiply_5[0][0]                 \n",
      "                                                                 conv2d_3[0][0]                   \n",
      "__________________________________________________________________________________________________\n",
      "block3_pool (MaxPooling2D)      (None, 3, 3, 64)     0           multiply_6[0][0]                 \n",
      "__________________________________________________________________________________________________\n",
      "flatten_1 (Flatten)             (None, 576)          0           block3_pool[0][0]                \n",
      "__________________________________________________________________________________________________\n",
      "dense1 (Dense)                  (None, 128)          73856       flatten_1[0][0]                  \n",
      "__________________________________________________________________________________________________\n",
      "dropout_1 (Dropout)             (None, 128)          0           dense1[0][0]                     \n",
      "__________________________________________________________________________________________________\n",
      "dense2 (Dense)                  (None, 46)           5934        dropout_1[0][0]                  \n",
      "==================================================================================================\n",
      "Total params: 478,092\n",
      "Trainable params: 478,092\n",
      "Non-trainable params: 0\n",
      "__________________________________________________________________________________________________\n"
     ]
    }
   ],
   "source": [
    "import warnings\n",
    "warnings.simplefilter(action='ignore', category=FutureWarning)\n",
    "\n",
    "import sys\n",
    "import tensorflow as tf\n",
    "import keras\n",
    "\n",
    "from keras.models import load_model\n",
    "model = load_model('model_keras_generator.h5')\n",
    "\n",
    "model.summary()"
   ]
  },
  {
   "cell_type": "code",
   "execution_count": null,
   "metadata": {},
   "outputs": [],
   "source": []
  }
 ],
 "metadata": {
  "kernelspec": {
   "display_name": "Python 3",
   "language": "python",
   "name": "python3"
  },
  "language_info": {
   "codemirror_mode": {
    "name": "ipython",
    "version": 3
   },
   "file_extension": ".py",
   "mimetype": "text/x-python",
   "name": "python",
   "nbconvert_exporter": "python",
   "pygments_lexer": "ipython3",
   "version": "3.7.1"
  }
 },
 "nbformat": 4,
 "nbformat_minor": 2
}
